{
  "nbformat": 4,
  "nbformat_minor": 0,
  "metadata": {
    "colab": {
      "provenance": [],
      "gpuType": "T4"
    },
    "kernelspec": {
      "name": "python3",
      "display_name": "Python 3"
    },
    "language_info": {
      "name": "python"
    },
    "accelerator": "GPU",
    "gpuClass": "standard"
  },
  "cells": [
    {
      "cell_type": "code",
      "execution_count": null,
      "metadata": {
        "colab": {
          "base_uri": "https://localhost:8080/"
        },
        "id": "1s7BUIDJwb6j",
        "outputId": "fc2742cb-120f-4be1-d4b8-b7a31f8c0760"
      },
      "outputs": [
        {
          "output_type": "stream",
          "name": "stdout",
          "text": [
            "Mounted at /content/drive\n"
          ]
        }
      ],
      "source": [
        "from google.colab import drive\n",
        "drive.mount('/content/drive')"
      ]
    },
    {
      "cell_type": "code",
      "source": [
        "%run \"/content/drive/MyDrive/Colab Notebooks/summarize.py\""
      ],
      "metadata": {
        "id": "MjRUwejzw_eH"
      },
      "execution_count": null,
      "outputs": []
    },
    {
      "cell_type": "code",
      "source": [
        "obj = article()\n",
        "obj.summarize('abstractive')"
      ],
      "metadata": {
        "colab": {
          "base_uri": "https://localhost:8080/"
        },
        "id": "h-gJdtEJxOnH",
        "outputId": "943bea0e-4b61-4601-ab29-3a137d9767fb"
      },
      "execution_count": null,
      "outputs": [
        {
          "name": "stdout",
          "output_type": "stream",
          "text": [
            "Which newspaper website do you want to check for news?\n",
            "                                     1. CNN\n",
            "                                     2. Hindustan times\n",
            "                                     3. News18\n",
            "                                     4. Deutsche Welle English\n",
            "                                     Select 1 , 2 , 3 or 4\n",
            "\n",
            "\n",
            "3\n"
          ]
        },
        {
          "output_type": "stream",
          "name": "stderr",
          "text": [
            "CRITICAL:newspaper.network:[REQUEST FAILED] 410 Client Error: Gone for url: https://www.news18.com/feeds/\n",
            "CRITICAL:newspaper.network:[REQUEST FAILED] 410 Client Error: Gone for url: https://www.news18.com/feed/\n"
          ]
        },
        {
          "name": "stdout",
          "output_type": "stream",
          "text": [
            "0 https://www.news18.com/cricketnext/mi-vs-rcb-live-cricket-streaming-ipl-2023-watch-mumbai-indians-royal-challengers-bangalore-coverage-tv-online-match-start-timing-jio-cinema-7754689.html\n",
            "1 https://www.news18.com/elections/karnataka-election-2023-live-updates-bjp-congress-jss-campaigning-ends-voting-tomorrow-yediyurappa-basavaraj-bommai-siddaramaiah-dk-shivakumar-livenews-7757803.html\n",
            "2 https://www.news18.com/movies/adipurush-trailer-live-updates-prabhas-kriti-sanon-om-raut-saif-ali-khan-twitter-review-livenews-7759633.html\n",
            "3 https://www.news18.com/movies/kerala-story-up-tax-free-bengal-bans-film-crew-police-protection-threat-call-7758505.html\n",
            "4 https://www.news18.com/world/imran-khan-arrested-by-pakistani-rangers-from-judicial-complex-in-islamabad-7763083.html\n",
            "5 https://www.news18.com/india/cyclone-mocha-update-live-news-storm-tracker-kolkata-mamata-precautionary-measure-taken-bay-of-bengal-7757833.html\n",
            "6 https://www.news18.com/movies/the-kashmir-files-director-vivek-agnihotri-legal-notice-west-bengal-cm-mamata-banerjee-highly-defamatory-remarks-7761541.html\n",
            "7 https://www.news18.com/explainers/the-kerala-story-a-look-at-isis-trafficking-and-brides-from-the-west-explained-7760149.html\n",
            "8 https://www.news18.com/business/markets/zomato-shares-tumble-5-as-ondc-enters-the-food-delivery-game-what-investors-should-know-7761019.html\n",
            "9 https://www.news18.com/movies/naga-chaitanya-calls-divorce-with-samantha-ruth-prabhu-unfortunate-says-it-is-due-to-7761943.html\n",
            "10 https://www.news18.com/india/boat-capsize-kerala-hc-initiates-suo-motu-pil-tragic-accident-22-dead-children-7760401.html\n",
            "11 https://www.news18.com/movies/kapil-sharma-seems-uncomfortable-on-shehnaaz-gill-show-tells-her-koi-dhang-ki-baat-watch-7758733.html\n",
            "12 https://www.news18.com/india/mumbai-no-police-noc-required-to-rent-flats-check-guidelines-7761517.html\n",
            "13 https://www.news18.com/cricketnext/ipl-2023-mumbai-indians-jofra-archer-ruled-out-chris-jordan-comes-in-as-replacement-7759963.html\n",
            "14 https://www.news18.com/movies/kangana-ranaut-says-no-one-asked-for-ban-on-aamir-khan-lsc-shabana-azmi-tweets-refresh-your-7758103.html\n",
            "15 https://www.news18.com/auto/2023-kia-sonet-aurochs-edition-launched-in-india-price-starts-at-rs-11-85-lakhs-7759783.html\n",
            "16 https://www.news18.com/videos/movies/parineeti-raghav-s-date-night-akshay-raveena-shilpa-meet-deepika-s-humble-outing-news-wrap-7754293.html\n",
            "17 https://www.news18.com/videos/movies/alia-bhatt-wins-hearts-as-she-greets-a-paparazzo-s-mother-with-warm-hug-chat-video-goes-viral-7752787.html\n",
            "18 https://www.news18.com/videos/movies/nushrratt-bharuccha-has-only-andha-pyaar-for-alia-bhatt-s-husband-ranbir-kapoor-exclusive-7750465.html\n",
            "19 https://www.news18.com/videos/lifestyle/ananya-panday-aces-headstand-to-stay-fit-fab-here-s-how-you-too-can-do-it-fitness-tips-7744429.html\n",
            "20 https://www.news18.com/videos/movies/srk-s-jawan-sends-vicky-sara-s-film-fukrey-3-sidharth-s-yodha-in-search-for-new-dates-7745443.html\n",
            "21 https://www.news18.com/videos/lifestyle/alia-bhatt-s-glass-skin-makeup-look-at-the-met-gala-2023-here-s-a-guide-on-how-to-recreate-it-7737025.html\n",
            "22 https://www.news18.com/videos/movies/jawan-release-postponed-shah-rukh-khan-s-film-with-atlee-nayanthara-reportedly-pushed-to-august-7730449.html\n",
            "23 https://www.news18.com/videos/lifestyle/anushka-sharma-to-debut-at-cannes-film-festival-2023-her-best-red-carpet-looks-in-recent-times-7732711.html\n",
            "24 https://www.news18.com/movies/exes-kareena-kapoor-shahid-kapoors-awkward-iifa-banter-in-front-of-saif-goes-viral-watch-video-7747945.html\n",
            "25 https://www.news18.com/movies/sushmita-sen-withdrew-miss-india-form-because-of-aishwarya-rai-revealed-jo-joote-pade-ghar-par-7748467.html\n",
            "26 https://www.news18.com/movies/adipurush-trailer-gets-leaked-hours-before-its-release-prabhas-fans-strongly-react-7757995.html\n",
            "27 https://www.news18.com/cricketnext/ipl-2023-kkr-finisher-rinku-singh-coach-kolkata-knight-riders-play-for-india-7757827.html\n",
            "28 https://www.news18.com/cricketnext/ipl-2023-playoff-qualification-scenarios-kkr-boost-playoff-chances-mi-find-themselves-in-tight-spot-7758727.html\n",
            "29 https://www.news18.com/cricketnext/ipl-2023-nitish-rana-fined-rs-12-lakh-for-breaching-code-of-conduct-during-pbks-clash-7758265.html\n",
            "30 https://www.news18.com/cricketnext/ipl-2023-nitish-rana-crowd-chant-rinku-rinku-andre-russell-kkr-vs-pbks-kolkata-7757941.html\n",
            "31 https://www.news18.com/cricketnext/ipl-2023-points-table-latest-update-kkr-vs-pbks-orange-cap-purple-cap-indian-premier-league-du-plessis-shami-7755379.html\n",
            "32 https://www.news18.com/cricketnext/asia-cup-2023-likely-to-be-hosted-in-sri-lanka-massive-blow-for-pakistan-amid-bcci-pressure-7755961.html\n",
            "33 https://www.news18.com/lifestyle/mothers-day-2023-gift-ideas-for-mom-with-diabetes-7758361.html\n",
            "34 https://www.news18.com/viral/air-indias-november-oscar-whiskey-recruitment-ad-goes-viral-heres-what-it-means-7749889.html\n",
            "35 https://www.news18.com/viral/youtuber-mrbeast-helps-2000-amputees-in-cambodia-walk-again-in-heartwarming-video-7747915.html\n",
            "36 https://www.news18.com/viral/king-charles-iii-coronation-moments-from-ceremony-turn-into-instant-memes-on-twitter-7747663.html\n",
            "37 https://www.news18.com/entertainment/television/cid-actress-chandrika-saha-files-complaint-against-her-husband-for-allegedly-thrashing-their-baby-7763101.html\n",
            "38 https://www.news18.com/movies/priyanka-chopra-reveals-who-takes-care-of-baby-malti-when-she-and-nick-jonas-are-out-working-7762705.html\n",
            "39 https://www.news18.com/cricketnext/mi-vs-rcb-live-ipl-2023-mumbai-indians-vs-royal-challengers-bangalore-scorecard-live-cricket-score-today-match-54-wankhede-stadium-mumbai-livenews-7762675.html\n",
            "40 https://www.news18.com/movies/sonam-kapoor-gifts-hubby-anand-ahuja-watch-worth-over-4-lakh-see-pic-7762843.html\n",
            "41 https://www.news18.com/movies/the-kerala-story-box-office-collection-day-4-adah-sharmas-film-will-soon-cross-rs-50-crore-mark-7762687.html\n",
            "42 https://www.news18.com/entertainment/hollywood/the-magic-is-back-halle-baileys-performance-shines-in-the-little-mermaid-premiere-7762237.html\n",
            "43 https://www.news18.com/lifestyle/calm-down-singer-rema-to-wear-manish-malhotra-for-india-debut-7762327.html\n",
            "44 https://www.news18.com/movies/adipurush-trailer-out-fans-dub-prabhas-and-kriti-sanon-starrer-goosebump-inducing-a-visual-treat-7761853.html\n",
            "45 https://www.news18.com/world/imran-khan-arrest-live-updates-former-pakistan-prime-minister-pti-chief-arrested-from-outside-islamabad-high-court-livenews-7763215.html\n",
            "46 https://www.news18.com/politics/rajasthan-rancour-puts-congress-on-back-foot-as-gehlot-pilot-hostility-threatens-battle-for-2024-7763353.html\n",
            "47 https://www.news18.com/viral/mi-vs-rcb-fans-engage-in-meme-battle-on-twitter-ahead-of-the-el-clasico-clash-in-ipl-2023-7763035.html\n",
            "48 https://www.news18.com/elections/karnataka-elections-2023-what-is-my-constituency-name-how-do-i-check-who-the-candidates-from-my-constituency-are-7762303.html\n",
            "49 https://www.news18.com/viral/viral-video-shows-womans-never-ending-battle-with-windshield-water-7763251.html\n",
            "50 https://www.news18.com/buzz/sci-fi-horror-movie-ar-rahmans-tweet-on-ai-in-china-schools-sparks-epic-reactions-7759711.html\n",
            "\n",
            "\n",
            "\n",
            "Pick an article number to summarize\n",
            "\n",
            "\n",
            "7\n"
          ]
        },
        {
          "output_type": "stream",
          "name": "stderr",
          "text": [
            "Token indices sequence length is longer than the specified maximum sequence length for this model (1415 > 512). Running this sequence through the model will result in indexing errors\n"
          ]
        },
        {
          "name": "stdout",
          "output_type": "stream",
          "text": [
            "\n",
            "\n",
            "***************************************\n",
            "\n",
            "\n",
            "\n",
            "\n",
            "Summary produced by the newspaper library\n",
            "\n",
            " ‘The Kerala Story,’ directed by Sudipto Sen and produced by Vipul\n",
            "Amrutlal Shah, stars Adah Sharma, Yogita Bihani, Sonia Balani, and\n",
            "Siddhi Idnani. However, there have been objections regarding to the\n",
            "‘inaccuracy’ of the claim and that it spreads ‘hate speech’ against\n",
            "Muslims. The threat of ISIS recruitment from abroad, especially UK,\n",
            "has been documented by some reports and papers. Let’s look at the\n",
            "trafficking stories related to ISIS from other countries:The Case of\n",
            "Shamima BegumOne of the highly-discussed of a possible trafficking\n",
            "case from the UK is of Shamima Begum. Despite the decision, the\n",
            "decision was damaging for the government, as per a report by\n",
            "Independent.\n",
            "\n",
            "\n",
            "***************************************\n",
            "\n",
            "\n",
            "\n",
            "\n",
            " This is the abstractive summary you requested for , Uses T5 small pretrained on multi_news dataset\n",
            "\n",
            "\n",
            "– The film, directed by Sudipto Sen and produced by Vipul Amrutlal Shah, stars Adah Sharma, Yogita\n",
            "Bihani, Sonia Balani, and Siddhi Idnani, is about forced religious conversion and alleges that about\n",
            "32,000 women in Kerala were converted to Islam and many were sent to ISIS-ruled Syria at the\n",
            "pinnacle of the terror group’s dominance. However, there have been objections regarding the\n",
            "‘inaccuracy’ of the claim and that it was in the then-home secretary’s power “to decide what is in\n",
            "the public interest,” the Guardian reports. “More have gone from Britain, even the Maldives, than\n",
            "from India,” as per a 2016 Guardian report. The film was revoked to 'four women' later, according to\n",
            "the Guardian. In a 2015 Guardian report, the UK Supreme Court ruled\n",
            "\n",
            "\n",
            "Would you like to continue reading newspaper summaries ? (yes/no)\n",
            "\n",
            "no\n"
          ]
        }
      ]
    }
  ]
}